{
 "cells": [
  {
   "cell_type": "markdown",
   "id": "dd8f1573",
   "metadata": {},
   "source": [
    "### Linear Search Algorithm\n",
    "\n",
    "* Start with the leftmost element of the list and compare one by one.\n",
    "* If the key element is found return the index of the element and break the loop.\n",
    "* If the key element is not found in the list return -1."
   ]
  },
  {
   "cell_type": "code",
   "execution_count": 1,
   "id": "f3e6f549",
   "metadata": {},
   "outputs": [],
   "source": [
    "myList = [2, 3, 4, 5, 9, 7, 10, 8, 1]"
   ]
  },
  {
   "cell_type": "code",
   "execution_count": 8,
   "id": "58c992e3",
   "metadata": {},
   "outputs": [
    {
     "name": "stdout",
     "output_type": "stream",
     "text": [
      "In the index of 6.\n"
     ]
    }
   ],
   "source": [
    "for i in range(len(myList)):\n",
    "    if myList[i] == 10:\n",
    "        print(f'In the index of {i}.')\n",
    "        break\n",
    "    elif i == len(myList)-1:\n",
    "        print(\"Element not found!\")"
   ]
  }
 ],
 "metadata": {
  "kernelspec": {
   "display_name": "Python 3 (ipykernel)",
   "language": "python",
   "name": "python3"
  },
  "language_info": {
   "codemirror_mode": {
    "name": "ipython",
    "version": 3
   },
   "file_extension": ".py",
   "mimetype": "text/x-python",
   "name": "python",
   "nbconvert_exporter": "python",
   "pygments_lexer": "ipython3",
   "version": "3.9.7"
  }
 },
 "nbformat": 4,
 "nbformat_minor": 5
}
