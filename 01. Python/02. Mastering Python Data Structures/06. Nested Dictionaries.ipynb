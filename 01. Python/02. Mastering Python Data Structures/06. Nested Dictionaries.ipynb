{
 "cells": [
  {
   "cell_type": "code",
   "execution_count": 1,
   "metadata": {},
   "outputs": [],
   "source": [
    "students_marks = {'Rafsan': {\"Maths\": 75,\"Science\": 80,\"English\": 78},\n",
    "                 \"Rafia\": {\"Maths\": 60,\"Science\": 65,\"English\": 70},\n",
    "                  \"Rafi\": {\"Maths\": 80,\"Science\": 50,\"English\": 68}}"
   ]
  },
  {
   "cell_type": "code",
   "execution_count": 2,
   "metadata": {},
   "outputs": [
    {
     "data": {
      "text/plain": [
       "{'Rafsan': {'Maths': 75, 'Science': 80, 'English': 78},\n",
       " 'Rafia': {'Maths': 60, 'Science': 65, 'English': 70},\n",
       " 'Rafi': {'Maths': 80, 'Science': 50, 'English': 68}}"
      ]
     },
     "execution_count": 2,
     "metadata": {},
     "output_type": "execute_result"
    }
   ],
   "source": [
    "students_marks"
   ]
  },
  {
   "cell_type": "code",
   "execution_count": 3,
   "metadata": {},
   "outputs": [
    {
     "name": "stdout",
     "output_type": "stream",
     "text": [
      "{'Maths': 80, 'Science': 50, 'English': 68}\n"
     ]
    }
   ],
   "source": [
    "print(students_marks[\"Rafi\"])"
   ]
  },
  {
   "cell_type": "code",
   "execution_count": 4,
   "metadata": {},
   "outputs": [
    {
     "name": "stdout",
     "output_type": "stream",
     "text": [
      "80\n"
     ]
    }
   ],
   "source": [
    "print(students_marks[\"Rafi\"][\"Maths\"])"
   ]
  },
  {
   "cell_type": "code",
   "execution_count": 5,
   "metadata": {},
   "outputs": [],
   "source": [
    "students_marks[\"Rafsan\"] = {}\n",
    "students_marks[\"Rafsan\"][\"Maths\"] = 79\n",
    "students_marks[\"Rafsan\"][\"Science\"] = 80\n",
    "students_marks[\"Rafsan\"][\"English\"] = 90"
   ]
  },
  {
   "cell_type": "code",
   "execution_count": 6,
   "metadata": {},
   "outputs": [
    {
     "name": "stdout",
     "output_type": "stream",
     "text": [
      "{'Maths': 60, 'Science': 65, 'English': 70}\n"
     ]
    }
   ],
   "source": [
    "print(students_marks[\"Rafia\"])"
   ]
  },
  {
   "cell_type": "code",
   "execution_count": 7,
   "metadata": {},
   "outputs": [
    {
     "data": {
      "text/plain": [
       "{'Maths': 60, 'Science': 65, 'English': 70}"
      ]
     },
     "execution_count": 7,
     "metadata": {},
     "output_type": "execute_result"
    }
   ],
   "source": [
    "students_marks.pop(\"Rafia\")"
   ]
  },
  {
   "cell_type": "code",
   "execution_count": 8,
   "metadata": {},
   "outputs": [
    {
     "data": {
      "text/plain": [
       "{'Rafsan': {'Maths': 79, 'Science': 80, 'English': 90},\n",
       " 'Rafi': {'Maths': 80, 'Science': 50, 'English': 68}}"
      ]
     },
     "execution_count": 8,
     "metadata": {},
     "output_type": "execute_result"
    }
   ],
   "source": [
    "students_marks"
   ]
  },
  {
   "cell_type": "code",
   "execution_count": 9,
   "metadata": {},
   "outputs": [
    {
     "name": "stdout",
     "output_type": "stream",
     "text": [
      "Name of student Rafsan\n",
      "Maths : 79\n",
      "Science : 80\n",
      "English : 90\n",
      "Name of student Rafi\n",
      "Maths : 80\n",
      "Science : 50\n",
      "English : 68\n"
     ]
    }
   ],
   "source": [
    "for name,subjects in students_marks.items():\n",
    "    print(\"Name of student\", name)\n",
    "    for marks in subjects:\n",
    "        print(marks,\":\",subjects[marks])\n"
   ]
  }
 ],
 "metadata": {
  "kernelspec": {
   "display_name": "Python 3 (ipykernel)",
   "language": "python",
   "name": "python3"
  },
  "language_info": {
   "codemirror_mode": {
    "name": "ipython",
    "version": 3
   },
   "file_extension": ".py",
   "mimetype": "text/x-python",
   "name": "python",
   "nbconvert_exporter": "python",
   "pygments_lexer": "ipython3",
   "version": "3.9.7"
  }
 },
 "nbformat": 4,
 "nbformat_minor": 4
}
