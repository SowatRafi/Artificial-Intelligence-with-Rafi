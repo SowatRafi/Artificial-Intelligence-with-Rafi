{
 "cells": [
  {
   "cell_type": "markdown",
   "id": "0a32bcad",
   "metadata": {},
   "source": [
    "### Scope of Variables\n",
    "\n",
    "* The part of a program where a variable is accessible is called its scope.\n",
    "* Scope is the visibility of a variable declared within a specific region.\n",
    "* There are two types of Scopes:\n",
    "    1. `Local Scope`,\n",
    "    2. `Global Scope`."
   ]
  },
  {
   "cell_type": "markdown",
   "id": "377e70c3",
   "metadata": {},
   "source": [
    "#### Local scope"
   ]
  },
  {
   "cell_type": "code",
   "execution_count": 1,
   "id": "2e7410f1",
   "metadata": {},
   "outputs": [],
   "source": [
    "def func():\n",
    "    a = 5  # local\n",
    "    print(a)"
   ]
  },
  {
   "cell_type": "code",
   "execution_count": 2,
   "id": "bb2e5418",
   "metadata": {},
   "outputs": [
    {
     "name": "stdout",
     "output_type": "stream",
     "text": [
      "5\n"
     ]
    }
   ],
   "source": [
    "func()"
   ]
  },
  {
   "cell_type": "code",
   "execution_count": 3,
   "id": "4db6f4c1",
   "metadata": {},
   "outputs": [
    {
     "ename": "NameError",
     "evalue": "name 'a' is not defined",
     "output_type": "error",
     "traceback": [
      "\u001b[1;31m---------------------------------------------------------------------------\u001b[0m",
      "\u001b[1;31mNameError\u001b[0m                                 Traceback (most recent call last)",
      "\u001b[1;32m~\\AppData\\Local\\Temp/ipykernel_1944/2167009006.py\u001b[0m in \u001b[0;36m<module>\u001b[1;34m\u001b[0m\n\u001b[1;32m----> 1\u001b[1;33m \u001b[0ma\u001b[0m\u001b[1;33m\u001b[0m\u001b[1;33m\u001b[0m\u001b[0m\n\u001b[0m",
      "\u001b[1;31mNameError\u001b[0m: name 'a' is not defined"
     ]
    }
   ],
   "source": [
    "a"
   ]
  },
  {
   "cell_type": "markdown",
   "id": "05f453aa",
   "metadata": {},
   "source": [
    "#### Global scope"
   ]
  },
  {
   "cell_type": "code",
   "execution_count": 4,
   "id": "0c74b7c6",
   "metadata": {},
   "outputs": [],
   "source": [
    "x = 11  # Global\n",
    "def myfunc():\n",
    "    y = 78\n",
    "    print(x)"
   ]
  },
  {
   "cell_type": "code",
   "execution_count": 5,
   "id": "4987ad84",
   "metadata": {},
   "outputs": [
    {
     "name": "stdout",
     "output_type": "stream",
     "text": [
      "11\n"
     ]
    }
   ],
   "source": [
    "myfunc()"
   ]
  },
  {
   "cell_type": "code",
   "execution_count": null,
   "id": "a72db1dc",
   "metadata": {},
   "outputs": [],
   "source": [
    "# trick\n",
    "def func1():\n",
    "    global y\n",
    "    y = 7\n",
    "    "
   ]
  }
 ],
 "metadata": {
  "kernelspec": {
   "display_name": "Python 3 (ipykernel)",
   "language": "python",
   "name": "python3"
  },
  "language_info": {
   "codemirror_mode": {
    "name": "ipython",
    "version": 3
   },
   "file_extension": ".py",
   "mimetype": "text/x-python",
   "name": "python",
   "nbconvert_exporter": "python",
   "pygments_lexer": "ipython3",
   "version": "3.9.7"
  }
 },
 "nbformat": 4,
 "nbformat_minor": 5
}
