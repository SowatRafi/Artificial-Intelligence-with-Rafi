{
 "cells": [
  {
   "cell_type": "markdown",
   "id": "ad6291ce",
   "metadata": {},
   "source": [
    "##### String"
   ]
  },
  {
   "cell_type": "code",
   "execution_count": 1,
   "id": "23bc94ea",
   "metadata": {},
   "outputs": [
    {
     "name": "stdout",
     "output_type": "stream",
     "text": [
      "Sowat Hossain Rafi\n",
      "<class 'str'>\n"
     ]
    }
   ],
   "source": [
    "w = \"Sowat Hossain Rafi\"\n",
    "print(w)\n",
    "print(type(w))"
   ]
  },
  {
   "cell_type": "markdown",
   "id": "cc3ccfb0",
   "metadata": {},
   "source": [
    "##### Integer"
   ]
  },
  {
   "cell_type": "code",
   "execution_count": 2,
   "id": "b25eff57",
   "metadata": {},
   "outputs": [
    {
     "name": "stdout",
     "output_type": "stream",
     "text": [
      "77\n",
      "<class 'int'>\n"
     ]
    }
   ],
   "source": [
    "x = 77\n",
    "print(x)\n",
    "print(type(x))"
   ]
  },
  {
   "cell_type": "markdown",
   "id": "f2db9545",
   "metadata": {},
   "source": [
    "##### Float"
   ]
  },
  {
   "cell_type": "code",
   "execution_count": 3,
   "id": "75052d7f",
   "metadata": {},
   "outputs": [
    {
     "name": "stdout",
     "output_type": "stream",
     "text": [
      "0.77\n",
      "<class 'float'>\n"
     ]
    }
   ],
   "source": [
    "y = 0.77\n",
    "print(y)\n",
    "print(type(y))"
   ]
  },
  {
   "cell_type": "markdown",
   "id": "9a9f72c0",
   "metadata": {},
   "source": [
    "##### Boolean"
   ]
  },
  {
   "cell_type": "code",
   "execution_count": 4,
   "id": "42592391",
   "metadata": {},
   "outputs": [
    {
     "name": "stdout",
     "output_type": "stream",
     "text": [
      "False\n",
      "<class 'bool'>\n"
     ]
    }
   ],
   "source": [
    "z = False\n",
    "print(z)\n",
    "print(type(z))"
   ]
  },
  {
   "cell_type": "markdown",
   "id": "d2e8c232",
   "metadata": {},
   "source": [
    "### TypeCasting\n",
    "\n",
    "* `int()`: Used to convert a *string* or *float* value to **integer**.\n",
    "* `float()`: Used to convert a *integer* or *string* value to **float**.\n",
    "* `int()`: Used to convert a *integer* or *float* value to **string**."
   ]
  },
  {
   "cell_type": "code",
   "execution_count": 5,
   "id": "ba7f0b25",
   "metadata": {},
   "outputs": [
    {
     "name": "stdout",
     "output_type": "stream",
     "text": [
      "77\n",
      "<class 'str'>\n"
     ]
    }
   ],
   "source": [
    "x = str(x)\n",
    "print(x)\n",
    "print(type(x))"
   ]
  },
  {
   "cell_type": "code",
   "execution_count": 6,
   "id": "9452a7a0",
   "metadata": {},
   "outputs": [
    {
     "name": "stdout",
     "output_type": "stream",
     "text": [
      "0.77\n",
      "<class 'str'>\n"
     ]
    }
   ],
   "source": [
    "y = str(y)\n",
    "print(y)\n",
    "print(type(y))"
   ]
  },
  {
   "cell_type": "code",
   "execution_count": 7,
   "id": "cc0ff310",
   "metadata": {},
   "outputs": [
    {
     "name": "stdout",
     "output_type": "stream",
     "text": [
      "77\n",
      "<class 'int'>\n"
     ]
    }
   ],
   "source": [
    "x = int(x)\n",
    "print(x)\n",
    "print(type(x))"
   ]
  }
 ],
 "metadata": {
  "kernelspec": {
   "display_name": "Python 3 (ipykernel)",
   "language": "python",
   "name": "python3"
  },
  "language_info": {
   "codemirror_mode": {
    "name": "ipython",
    "version": 3
   },
   "file_extension": ".py",
   "mimetype": "text/x-python",
   "name": "python",
   "nbconvert_exporter": "python",
   "pygments_lexer": "ipython3",
   "version": "3.9.7"
  }
 },
 "nbformat": 4,
 "nbformat_minor": 5
}
