{
 "cells": [
  {
   "cell_type": "markdown",
   "metadata": {},
   "source": [
    "## Special functions for Regular Expressions"
   ]
  },
  {
   "cell_type": "code",
   "execution_count": 1,
   "metadata": {},
   "outputs": [],
   "source": [
    "import re"
   ]
  },
  {
   "cell_type": "markdown",
   "metadata": {},
   "source": [
    "##### `\\A`\n",
    "* Returns a match if the specified characters are at the beginning of the string."
   ]
  },
  {
   "cell_type": "code",
   "execution_count": 2,
   "metadata": {},
   "outputs": [
    {
     "name": "stdout",
     "output_type": "stream",
     "text": [
      "[]\n",
      "['The']\n"
     ]
    }
   ],
   "source": [
    "s = \"I love watching online tutorials.\"\n",
    "x = re.findall(\"\\AThe\", s)\n",
    "print(x)\n",
    "\n",
    "s = \"Then the Love story begains.\"\n",
    "x = re.findall(\"\\AThe\", s)\n",
    "print(x)"
   ]
  },
  {
   "cell_type": "markdown",
   "metadata": {},
   "source": [
    "##### `r\"\\b\"`\n",
    "* Returns a match where the specified characters are at the beginning or at the end of a word.\n",
    "\n",
    "(The \"r\" in the beginning is making sure that the string is being treated as a \"raw string\")\n"
   ]
  },
  {
   "cell_type": "code",
   "execution_count": 3,
   "metadata": {},
   "outputs": [
    {
     "name": "stdout",
     "output_type": "stream",
     "text": [
      "['watch']\n",
      "['line']\n"
     ]
    }
   ],
   "source": [
    "s = \"I love watching online tutorials\"\n",
    "x = re.findall(r'\\bwatch', s)  # `{\\b}` At the begining or at the last or not.\n",
    "print(x)\n",
    "\n",
    "x = re.findall(r'line\\b', s)\n",
    "print(x)"
   ]
  },
  {
   "cell_type": "markdown",
   "metadata": {},
   "source": [
    "##### `\\B`\n",
    "* Returns a match where the specified characters are present, **but NOT at the beginning (_or at the end_) of a word.**\n",
    "\n",
    "(The \"r\" in the beginning is making sure that the string is being treated as a \"raw string\")"
   ]
  },
  {
   "cell_type": "code",
   "execution_count": 4,
   "metadata": {},
   "outputs": [
    {
     "name": "stdout",
     "output_type": "stream",
     "text": [
      "['tor']\n",
      "['or']\n"
     ]
    }
   ],
   "source": [
    "s = \"The Love Story.\"\n",
    "x = re.findall(r\"\\Btor\", s)\n",
    "print(x)\n",
    "\n",
    "s = \"The Hate Story.\"\n",
    "x = re.findall(r\"or\\B\", s)\n",
    "print(x)"
   ]
  },
  {
   "cell_type": "markdown",
   "metadata": {},
   "source": [
    "#### `\\d`\n",
    "* Returns a match where the string contains digits (_numbers from 0-9_)"
   ]
  },
  {
   "cell_type": "code",
   "execution_count": 5,
   "metadata": {},
   "outputs": [
    {
     "name": "stdout",
     "output_type": "stream",
     "text": [
      "['8', '8', '0', '1']\n"
     ]
    }
   ],
   "source": [
    "s = \"My phone number is +8801\"\n",
    "x = re.findall(\"\\d\", s)\n",
    "print(x)"
   ]
  },
  {
   "cell_type": "markdown",
   "metadata": {},
   "source": [
    "##### `\\D`\n",
    "* Returns a match where the string DOES NOT contain digits."
   ]
  },
  {
   "cell_type": "code",
   "execution_count": 6,
   "metadata": {},
   "outputs": [
    {
     "name": "stdout",
     "output_type": "stream",
     "text": [
      "['I', ' ', 'l', 'o', 'v', 'e', ' ', 'y', 'o', 'u', ' ', '.']\n"
     ]
    }
   ],
   "source": [
    "s = \"I love you 143.\"\n",
    "x = re.findall(\"\\D\", s)\n",
    "print(x)"
   ]
  },
  {
   "cell_type": "markdown",
   "metadata": {},
   "source": [
    "##### `\\s`\n",
    "* Returns a match where the string contains a white space character."
   ]
  },
  {
   "cell_type": "code",
   "execution_count": 7,
   "metadata": {},
   "outputs": [
    {
     "name": "stdout",
     "output_type": "stream",
     "text": [
      "There are 6 spaces in this line.\n"
     ]
    }
   ],
   "source": [
    "s = \"I wanna make a great love story.\"\n",
    "x = re.findall(\"\\s\", s)\n",
    "print(f\"There are {len(x)} spaces in this line.\")"
   ]
  },
  {
   "cell_type": "markdown",
   "metadata": {},
   "source": [
    "##### `\\S`\n",
    "* Returns a match where the string DOES NOT contain a white space character."
   ]
  },
  {
   "cell_type": "code",
   "execution_count": 8,
   "metadata": {},
   "outputs": [
    {
     "name": "stdout",
     "output_type": "stream",
     "text": [
      "['I', 'w', 'a', 'n', 'n', 'a', 'm', 'a', 'k', 'e', 'a', 'g', 'r', 'e', 'a', 't', 'l', 'o', 'v', 'e', 's', 't', 'o', 'r', 'y', '.']\n",
      "There are 26 characters.\n"
     ]
    }
   ],
   "source": [
    "s = \"I wanna make a great love story.\"\n",
    "x = re.findall(\"\\S\", s)\n",
    "print(x)\n",
    "print(f\"There are {len(x)} characters.\")"
   ]
  },
  {
   "cell_type": "markdown",
   "metadata": {},
   "source": [
    "##### `\\w`\n",
    "* \tReturns a match where the string contains any word characters.\n",
    "\n",
    "(**characters from _a to Z_, digits from _0-9_, and the *underscore _* character**)"
   ]
  },
  {
   "cell_type": "code",
   "execution_count": 9,
   "metadata": {},
   "outputs": [
    {
     "name": "stdout",
     "output_type": "stream",
     "text": [
      "['T', 'h', 'e', 'l', 'a', 'd', 'y', 'i', 'n', 'b', 'l', 'u', 'e']\n",
      "There are 13 characters in this line without full-stop.\n"
     ]
    }
   ],
   "source": [
    "s = \"The lady in blue.\"\n",
    "x = re.findall(\"\\w\", s)\n",
    "print(x)\n",
    "print(f\"There are {len(x)} characters in this line without full-stop.\")"
   ]
  },
  {
   "cell_type": "markdown",
   "metadata": {},
   "source": [
    "##### `\\W`\n",
    "* \tReturns a match where the string DOES NOT contain any word characters."
   ]
  },
  {
   "cell_type": "code",
   "execution_count": 10,
   "metadata": {
    "scrolled": true
   },
   "outputs": [
    {
     "name": "stdout",
     "output_type": "stream",
     "text": [
      "There are 13 without-word-charaters in this line.\n"
     ]
    }
   ],
   "source": [
    "s = \"I wanna make a great love story.[{()}]\"\n",
    "x = re.findall(\"\\W\", s)\n",
    "print(f\"There are {len(x)} without-word-charaters in this line.\")"
   ]
  },
  {
   "cell_type": "markdown",
   "metadata": {},
   "source": [
    "##### `\\Z`\n",
    "* \tReturns a match if the specified characters are at the end of the string."
   ]
  },
  {
   "cell_type": "code",
   "execution_count": 11,
   "metadata": {},
   "outputs": [
    {
     "name": "stdout",
     "output_type": "stream",
     "text": [
      "[]\n",
      "['Rafi.']\n"
     ]
    }
   ],
   "source": [
    "s1 = \"Hi, my name is Rafi.\"\n",
    "x = re.findall(\"rafi.\\Z\", s1)\n",
    "print(x)\n",
    "\n",
    "x = re.findall(\"Rafi.\\Z\", s1)\n",
    "print(x)"
   ]
  },
  {
   "cell_type": "markdown",
   "metadata": {},
   "source": [
    "<a href=\"https://www.w3schools.com/python/python_regex.asp\">Original source</a>"
   ]
  }
 ],
 "metadata": {
  "kernelspec": {
   "display_name": "Python 3 (ipykernel)",
   "language": "python",
   "name": "python3"
  },
  "language_info": {
   "codemirror_mode": {
    "name": "ipython",
    "version": 3
   },
   "file_extension": ".py",
   "mimetype": "text/x-python",
   "name": "python",
   "nbconvert_exporter": "python",
   "pygments_lexer": "ipython3",
   "version": "3.9.7"
  }
 },
 "nbformat": 4,
 "nbformat_minor": 4
}
