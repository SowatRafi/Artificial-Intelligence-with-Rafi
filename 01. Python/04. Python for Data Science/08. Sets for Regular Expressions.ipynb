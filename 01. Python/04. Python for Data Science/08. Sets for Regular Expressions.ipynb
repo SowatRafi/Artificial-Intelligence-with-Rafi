{
 "cells": [
  {
   "cell_type": "markdown",
   "metadata": {},
   "source": [
    "## Sets for Regular Expressions"
   ]
  },
  {
   "cell_type": "code",
   "execution_count": 1,
   "metadata": {},
   "outputs": [],
   "source": [
    "import re"
   ]
  },
  {
   "cell_type": "code",
   "execution_count": 2,
   "metadata": {},
   "outputs": [
    {
     "name": "stdout",
     "output_type": "stream",
     "text": [
      "['r', 'a', 'n']\n"
     ]
    }
   ],
   "source": [
    "s = \"I love reading books.\"\n",
    "x = re.findall('[arn]', s)\n",
    "print(x)"
   ]
  },
  {
   "cell_type": "code",
   "execution_count": 3,
   "metadata": {},
   "outputs": [
    {
     "name": "stdout",
     "output_type": "stream",
     "text": [
      "['l', 'e', 'e', 'a', 'd', 'i', 'n', 'g', 'b', 'k']\n"
     ]
    }
   ],
   "source": [
    "s = \"I love reading books.\"\n",
    "x = re.findall('[a-n]', s)\n",
    "print(x)"
   ]
  },
  {
   "cell_type": "code",
   "execution_count": 4,
   "metadata": {},
   "outputs": [
    {
     "name": "stdout",
     "output_type": "stream",
     "text": [
      "['I', ' ', 'l', 'o', 'v', 'e', ' ', 'e', 'd', 'i', 'g', ' ', 'b', 'o', 'o', 'k', 's', '.']\n"
     ]
    }
   ],
   "source": [
    "s = \"I love reading books.\"\n",
    "x = re.findall('[^arn]', s)  # Except [arn]\n",
    "print(x)"
   ]
  },
  {
   "cell_type": "code",
   "execution_count": 5,
   "metadata": {},
   "outputs": [
    {
     "name": "stdout",
     "output_type": "stream",
     "text": [
      "['8']\n"
     ]
    }
   ],
   "source": [
    "s = \"I love reading books after 8pm.\"\n",
    "x = re.findall('[0-9]', s)\n",
    "print(x)"
   ]
  },
  {
   "cell_type": "code",
   "execution_count": 6,
   "metadata": {},
   "outputs": [
    {
     "name": "stdout",
     "output_type": "stream",
     "text": [
      "['I', 'l', 'o', 'v', 'e', 'r', 'e', 'a', 'd', 'i', 'n', 'g', 'b', 'o', 'o', 'k', 's']\n"
     ]
    }
   ],
   "source": [
    "s = \"I love reading books.\"\n",
    "x = re.findall('[a-zA-Z]', s)\n",
    "print(x)"
   ]
  },
  {
   "cell_type": "code",
   "execution_count": 7,
   "metadata": {},
   "outputs": [
    {
     "name": "stdout",
     "output_type": "stream",
     "text": [
      "[]\n"
     ]
    }
   ],
   "source": [
    "s = \"I love reading books.\"\n",
    "x = re.findall('[+]', s)\n",
    "print(x)"
   ]
  }
 ],
 "metadata": {
  "kernelspec": {
   "display_name": "Python 3 (ipykernel)",
   "language": "python",
   "name": "python3"
  },
  "language_info": {
   "codemirror_mode": {
    "name": "ipython",
    "version": 3
   },
   "file_extension": ".py",
   "mimetype": "text/x-python",
   "name": "python",
   "nbconvert_exporter": "python",
   "pygments_lexer": "ipython3",
   "version": "3.9.7"
  }
 },
 "nbformat": 4,
 "nbformat_minor": 4
}
